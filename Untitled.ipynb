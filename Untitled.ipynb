{
 "cells": [
  {
   "cell_type": "code",
   "execution_count": 1,
   "id": "95fbb1f9-79ad-4b64-854a-c977e1f29317",
   "metadata": {
    "tags": []
   },
   "outputs": [],
   "source": [
    "import glob\n",
    "import random\n",
    "import numpy as np\n",
    "from PIL import Image\n",
    "\n",
    "\n",
    "import torch\n",
    "import torch.nn as nn\n",
    "import torch.nn.functional as F\n",
    "from torchvision.transforms import ToTensor\n",
    "from torch.utils.data import Dataset, DataLoader"
   ]
  },
  {
   "cell_type": "code",
   "execution_count": 2,
   "id": "378fcb6c-234f-494d-8dfa-50ec797821dd",
   "metadata": {
    "tags": []
   },
   "outputs": [],
   "source": [
    "lr = 0.001"
   ]
  },
  {
   "cell_type": "code",
   "execution_count": 3,
   "id": "bf0b4d0f-458e-4089-8485-4e1cab573b07",
   "metadata": {
    "tags": []
   },
   "outputs": [],
   "source": [
    "def set_seed(seed=42):\n",
    "    random.seed(seed)\n",
    "    np.random.seed(seed)\n",
    "    torch.manual_seed(seed)\n",
    "    if torch.cuda.is_available():\n",
    "        torch.cuda.manual_seed(seed)\n",
    "        torch.backends.cudnn.deterministic = True\n",
    "        torch.backends.cudnn.benchmark = False\n",
    "\n",
    "set_seed()"
   ]
  },
  {
   "cell_type": "code",
   "execution_count": 4,
   "id": "37b9f22a-da30-4181-b5c2-4e65c75aff9e",
   "metadata": {
    "tags": []
   },
   "outputs": [
    {
     "data": {
      "text/plain": [
       "(500, 500)"
      ]
     },
     "execution_count": 4,
     "metadata": {},
     "output_type": "execute_result"
    }
   ],
   "source": [
    "set_seed()\n",
    "\n",
    "train_images = glob.glob(\"data/training/*/*\")\n",
    "test_images = glob.glob(\"data/testing/*/*\")\n",
    "\n",
    "random.shuffle(train_images)\n",
    "random.shuffle(test_images)\n",
    "\n",
    "train_images = train_images[:500]\n",
    "test_images = test_images[:500]\n",
    "\n",
    "len(train_images), len(test_images)"
   ]
  },
  {
   "cell_type": "code",
   "execution_count": 5,
   "id": "5437488a-5f28-4b33-9c94-50c2ae0bced5",
   "metadata": {
    "tags": []
   },
   "outputs": [
    {
     "data": {
      "text/plain": [
       "['data/training/0/49200.png', 'data/training/6/15591.png']"
      ]
     },
     "execution_count": 5,
     "metadata": {},
     "output_type": "execute_result"
    }
   ],
   "source": [
    "train_images[:2]"
   ]
  },
  {
   "cell_type": "code",
   "execution_count": 6,
   "id": "2f9dd326-343f-4f57-aa2d-26750c9cc4c8",
   "metadata": {
    "tags": []
   },
   "outputs": [
    {
     "data": {
      "text/plain": [
       "['data/testing/9/6655.png', 'data/testing/6/9938.png']"
      ]
     },
     "execution_count": 6,
     "metadata": {},
     "output_type": "execute_result"
    }
   ],
   "source": [
    "test_images[:2]"
   ]
  },
  {
   "cell_type": "code",
   "execution_count": 7,
   "id": "e09a811f-1908-4bbd-97de-539882ce78b4",
   "metadata": {
    "tags": []
   },
   "outputs": [],
   "source": [
    "def read_image(path):\n",
    "    img_pil = Image.open(path)\n",
    "    img = np.array(img_pil)\n",
    "    return img"
   ]
  },
  {
   "cell_type": "code",
   "execution_count": 8,
   "id": "245c3c8d-6ccd-471a-ae66-25040d1b5701",
   "metadata": {
    "tags": []
   },
   "outputs": [],
   "source": [
    "class MNISTDataset(Dataset):\n",
    "    def __init__(self, img_dir, transform=None):\n",
    "        self.img_dir = img_dir\n",
    "        self.transform = transform\n",
    "\n",
    "    def __len__(self):\n",
    "        return len(self.img_dir)\n",
    "\n",
    "    def __getitem__(self, idx):\n",
    "        img_path = self.img_dir[idx]\n",
    "        image = read_image(img_path)\n",
    "        label = int(img_path.split(\"/\")[-2])\n",
    "\n",
    "        if self.transform:\n",
    "            image = self.transform(image)\n",
    "\n",
    "        return image, label"
   ]
  },
  {
   "cell_type": "code",
   "execution_count": 9,
   "id": "e6c49554-00f0-48d8-ac6a-86e310350d6e",
   "metadata": {
    "tags": []
   },
   "outputs": [],
   "source": [
    "training_data = MNISTDataset(train_images, ToTensor())\n",
    "test_data = MNISTDataset(test_images, ToTensor())\n",
    "\n",
    "train_dataloader = DataLoader(training_data, batch_size=4, shuffle=False)\n",
    "test_dataloader = DataLoader(test_data, batch_size=4, shuffle=False)"
   ]
  },
  {
   "cell_type": "code",
   "execution_count": 10,
   "id": "866610fe-9fd8-472c-b000-f9529e9769f6",
   "metadata": {
    "tags": []
   },
   "outputs": [
    {
     "name": "stdout",
     "output_type": "stream",
     "text": [
      "torch.Size([4, 1, 28, 28])\n",
      "tensor([0, 6, 6, 4])\n"
     ]
    }
   ],
   "source": [
    "for x, y in train_dataloader:\n",
    "    print(x.shape)\n",
    "    print(y)\n",
    "    break"
   ]
  },
  {
   "cell_type": "code",
   "execution_count": 104,
   "id": "073a7a57-512d-4953-b598-452ad9676ea8",
   "metadata": {
    "tags": []
   },
   "outputs": [
    {
     "name": "stdout",
     "output_type": "stream",
     "text": [
      "Using cuda device\n"
     ]
    }
   ],
   "source": [
    "device = \"cuda\" if torch.cuda.is_available() else \"cpu\"\n",
    "\n",
    "print(f\"Using {device} device\")"
   ]
  },
  {
   "cell_type": "code",
   "execution_count": 124,
   "id": "ca8e7bdb-5609-4daa-aba9-89c10b4d2b34",
   "metadata": {
    "tags": []
   },
   "outputs": [],
   "source": [
    "class ReLU(nn.Module):\n",
    "    \n",
    "    def __init__(self):\n",
    "        super().__init__()\n",
    "        self.device = \"cuda\" if torch.cuda.is_available() else \"cpu\"\n",
    "\n",
    "    def relu(self, x):\n",
    "        zero = torch.tensor([0]).to(self.device)\n",
    "        x = x.to(device)\n",
    "        return torch.max(zero, x)\n",
    "    \n",
    "    def forward(self, x):\n",
    "        return self.relu(x)"
   ]
  },
  {
   "cell_type": "code",
   "execution_count": 125,
   "id": "84b64900-b4b9-43e4-99fc-a76b9952d292",
   "metadata": {
    "tags": []
   },
   "outputs": [],
   "source": [
    "class Linear(nn.Module):\n",
    "\n",
    "    def __init__(self, in_features, out_features, bias=True):\n",
    "        super().__init__()\n",
    "        device = \"cuda\" if torch.cuda.is_available() else \"cpu\"\n",
    "        root_k = (1 / in_features) ** 0.5\n",
    "        self.in_features = in_features\n",
    "        self.out_features = out_features\n",
    "        self.bias = bias\n",
    "        self.w = nn.Parameter(torch.empty(in_features, out_features, device=device))\n",
    "        self.b = nn.Parameter(torch.empty(out_features, device=device)) if self.bias else None\n",
    "        \n",
    "        nn.init.uniform_(self.w, -root_k, root_k)\n",
    "        nn.init.uniform_(self.b, -root_k, root_k)\n",
    "\n",
    "    \n",
    "    def forward(self, x):\n",
    "        x = x @ self.w\n",
    "        if self.b is not None:\n",
    "            x += self.b\n",
    "        return x\n",
    "    \n",
    "    def __repr__(self):\n",
    "        return f\"Linear(in_features={self.in_features}, out_features={self.out_features}, bias={self.bias})\""
   ]
  },
  {
   "cell_type": "code",
   "execution_count": 126,
   "id": "fe0ca746-f927-4992-a5f5-81433575f21a",
   "metadata": {
    "tags": []
   },
   "outputs": [],
   "source": [
    "class Sequential(nn.Module):\n",
    "    def __init__(self, *args):\n",
    "        super().__init__()\n",
    "        self.layers = nn.ModuleList(args)\n",
    "\n",
    "    def forward(self, x):\n",
    "        for layer in self.layers:\n",
    "            x = layer(x)\n",
    "        return x"
   ]
  },
  {
   "cell_type": "code",
   "execution_count": 127,
   "id": "5802494e-a4b8-4e8b-80fe-f718503b01a4",
   "metadata": {
    "tags": []
   },
   "outputs": [],
   "source": [
    "class Flatten(nn.Module):\n",
    "        \n",
    "    def forward(self, x):\n",
    "        size = x.size\n",
    "        x = x.view(size(0), -1)\n",
    "        return x"
   ]
  },
  {
   "cell_type": "code",
   "execution_count": 128,
   "id": "31244e16-71d6-40db-b3b3-f767eca54bfa",
   "metadata": {
    "tags": []
   },
   "outputs": [
    {
     "name": "stdout",
     "output_type": "stream",
     "text": [
      "Net(\n",
      "  (flatten): Flatten()\n",
      "  (layers): Sequential(\n",
      "    (layers): ModuleList(\n",
      "      (0): Linear(in_features=784, out_features=512, bias=True)\n",
      "      (1): BatchNorm1d(512, eps=1e-05, momentum=0.1, affine=True, track_running_stats=True)\n",
      "      (2): ReLU()\n",
      "      (3): Linear(in_features=512, out_features=512, bias=True)\n",
      "      (4): BatchNorm1d(512, eps=1e-05, momentum=0.1, affine=True, track_running_stats=True)\n",
      "      (5): ReLU()\n",
      "      (6): Linear(in_features=512, out_features=10, bias=True)\n",
      "    )\n",
      "  )\n",
      ")\n"
     ]
    }
   ],
   "source": [
    "set_seed()\n",
    "\n",
    "class Net(nn.Module):\n",
    "    def __init__(self):\n",
    "        super().__init__()\n",
    "        self.flatten = Flatten()\n",
    "        self.layers = Sequential(\n",
    "            Linear(28*28, 512),\n",
    "            nn.BatchNorm1d(512),\n",
    "            ReLU(),\n",
    "            Linear(512, 512),\n",
    "            nn.BatchNorm1d(512),\n",
    "            ReLU(),\n",
    "            Linear(512, 10)\n",
    "        )\n",
    "\n",
    "    def forward(self, x):\n",
    "        x = self.flatten(x)\n",
    "        x = self.layers(x)\n",
    "        return x\n",
    "\n",
    "model = Net().to(device)\n",
    "print(model)"
   ]
  },
  {
   "cell_type": "code",
   "execution_count": 129,
   "id": "72f8adcb-d268-48ca-a113-b6c7b79a4dd7",
   "metadata": {
    "tags": []
   },
   "outputs": [],
   "source": [
    "# tensor(2.2775, device='cuda:0', grad_fn=<NllLossBackward0>)\n",
    "# after custom Linear: tensor(2.3203, device='cuda:0', grad_fn=<DivBackward0>)"
   ]
  },
  {
   "cell_type": "code",
   "execution_count": 130,
   "id": "e25be703-0bde-4944-9e7e-9bbcccf66959",
   "metadata": {
    "tags": []
   },
   "outputs": [],
   "source": [
    "class CrossEntropyLoss:\n",
    "    \n",
    "    def log_softmax(self, x, dim):\n",
    "        softmax = torch.exp(x) / torch.exp(x).sum(axis=dim, keepdims=True)\n",
    "        return torch.log(softmax)\n",
    "\n",
    "    def __call__(self, pred, y):\n",
    "        '''custom cross entropy loss'''\n",
    "        batch_size = y.size(0)\n",
    "        log_softmax = self.log_softmax(pred, dim=1)\n",
    "        per_batch_ce = [log_softmax[i][y[i]] for i in range(batch_size)]\n",
    "        summed = sum(per_batch_ce)\n",
    "        ce = -summed / batch_size\n",
    "        return ce\n",
    "\n",
    "loss_fn = CrossEntropyLoss()"
   ]
  },
  {
   "cell_type": "code",
   "execution_count": 131,
   "id": "98cd5243-02ed-4889-9e15-1f7477e1c088",
   "metadata": {
    "tags": []
   },
   "outputs": [
    {
     "data": {
      "text/plain": [
       "tensor(2.6374, device='cuda:0', grad_fn=<DivBackward0>)"
      ]
     },
     "execution_count": 131,
     "metadata": {},
     "output_type": "execute_result"
    }
   ],
   "source": [
    "x, y = next(iter(test_dataloader))\n",
    "x, y = x.to(device), y.to(device)\n",
    "pred = model(x)\n",
    "loss = loss_fn(pred, y)\n",
    "loss"
   ]
  },
  {
   "cell_type": "code",
   "execution_count": 132,
   "id": "0d32412a-e441-4099-85e7-d82bb98a8ab2",
   "metadata": {
    "tags": []
   },
   "outputs": [],
   "source": [
    "def train(dataloader, model, loss_fn):\n",
    "    size = len(dataloader.dataset)\n",
    "    model.train()\n",
    "    for batch, (X, y) in enumerate(dataloader):\n",
    "        X, y = X.to(device), y.to(device)\n",
    "\n",
    "        pred = model(X)\n",
    "        loss = loss_fn(pred, y)\n",
    "\n",
    "        for p in model.parameters():\n",
    "            p.grad = None\n",
    "\n",
    "        loss.backward()\n",
    "\n",
    "        for p in model.parameters():\n",
    "            p.data += -lr * p.grad\n",
    "\n",
    "        if batch % 100 == 0:\n",
    "            loss, current = loss.item(), (batch + 1) * len(X)\n",
    "            print(f\"loss: {loss:>7f}  [{current:>5d}/{size:>5d}]\")"
   ]
  },
  {
   "cell_type": "code",
   "execution_count": 133,
   "id": "623cc03e-c77f-4346-ad2e-70b6191ba573",
   "metadata": {
    "tags": []
   },
   "outputs": [],
   "source": [
    "def test(dataloader, model, loss_fn):\n",
    "    size = len(dataloader.dataset)\n",
    "    num_batches = len(dataloader)\n",
    "    model.eval()\n",
    "    test_loss, correct = 0, 0\n",
    "    with torch.no_grad():\n",
    "        for X, y in dataloader:\n",
    "            X, y = X.to(device), y.to(device)\n",
    "            pred = model(X)\n",
    "            test_loss += loss_fn(pred, y).item()\n",
    "            correct += (pred.argmax(1) == y).type(torch.float).sum().item()\n",
    "    test_loss /= num_batches\n",
    "    correct /= size\n",
    "    print(f\"Test Error: \\n Accuracy: {(100*correct):>0.1f}%, Avg loss: {test_loss:>8f} \\n\")"
   ]
  },
  {
   "cell_type": "code",
   "execution_count": 134,
   "id": "839ee607-b2ea-43b0-a686-8cfca42e7e99",
   "metadata": {
    "tags": []
   },
   "outputs": [
    {
     "name": "stdout",
     "output_type": "stream",
     "text": [
      "Epoch 1\n",
      "-------------------------------\n",
      "loss: 2.194601  [    4/  500]\n",
      "loss: 1.846271  [  404/  500]\n",
      "Test Error: \n",
      " Accuracy: 56.4%, Avg loss: 1.794078 \n",
      "\n",
      "Epoch 2\n",
      "-------------------------------\n",
      "loss: 1.608880  [    4/  500]\n",
      "loss: 1.258173  [  404/  500]\n",
      "Test Error: \n",
      " Accuracy: 68.6%, Avg loss: 1.496804 \n",
      "\n",
      "Done!\n"
     ]
    }
   ],
   "source": [
    "epochs = 2\n",
    "for t in range(epochs):\n",
    "    print(f\"Epoch {t+1}\\n-------------------------------\")\n",
    "    train(train_dataloader, model, loss_fn)\n",
    "    test(test_dataloader, model, loss_fn)\n",
    "print(\"Done!\")"
   ]
  },
  {
   "cell_type": "code",
   "execution_count": 135,
   "id": "320cb333-9c48-4567-b67f-5549488fcb75",
   "metadata": {
    "tags": []
   },
   "outputs": [],
   "source": [
    "# Accuracy: 18.2%, Avg loss: 2.294005\n",
    "# after custom Linear: Accuracy: 19.6%, Avg loss: 2.289190"
   ]
  },
  {
   "cell_type": "code",
   "execution_count": 136,
   "id": "f6fddd2c-e11b-43aa-a95c-43048c507f20",
   "metadata": {
    "tags": []
   },
   "outputs": [
    {
     "name": "stdout",
     "output_type": "stream",
     "text": [
      "Accuracy is: 68.60%\n"
     ]
    }
   ],
   "source": [
    "total_correct = 0\n",
    "total_no = 0\n",
    "for x, y in test_dataloader:\n",
    "    x = x.to(device)\n",
    "    pred = model(x).argmax(1).cpu()\n",
    "    correct = (pred == y).long().sum().item()\n",
    "    total_correct += correct\n",
    "    total_no += x.shape[0]\n",
    "\n",
    "accuracy = total_correct / total_no\n",
    "print(f\"Accuracy is: {accuracy*100:.2f}%\")"
   ]
  },
  {
   "cell_type": "code",
   "execution_count": null,
   "id": "054333e4-dc2f-420c-8c31-a8dcc7a7f2da",
   "metadata": {},
   "outputs": [],
   "source": []
  }
 ],
 "metadata": {
  "kernelspec": {
   "display_name": "Python 3 (ipykernel)",
   "language": "python",
   "name": "python3"
  },
  "language_info": {
   "codemirror_mode": {
    "name": "ipython",
    "version": 3
   },
   "file_extension": ".py",
   "mimetype": "text/x-python",
   "name": "python",
   "nbconvert_exporter": "python",
   "pygments_lexer": "ipython3",
   "version": "3.8.10"
  }
 },
 "nbformat": 4,
 "nbformat_minor": 5
}
